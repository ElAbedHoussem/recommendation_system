{
 "cells": [
  {
   "cell_type": "code",
   "execution_count": 19,
   "metadata": {},
   "outputs": [],
   "source": [
    "import pandas as pd\n",
    "#Import TfIdfVectorizer from scikit-learn\n",
    "from sklearn.feature_extraction.text import TfidfVectorizer\n",
    "# Import linear_kernel\n",
    "from sklearn.metrics.pairwise import linear_kernel"
   ]
  },
  {
   "cell_type": "markdown",
   "metadata": {},
   "source": [
    "## 1. Import data"
   ]
  },
  {
   "cell_type": "code",
   "execution_count": 20,
   "metadata": {},
   "outputs": [],
   "source": [
    "data = pd.read_excel (r'./T4.xlsx')"
   ]
  },
  {
   "cell_type": "markdown",
   "metadata": {},
   "source": [
    "#### Display the the number of empty values in the dataset"
   ]
  },
  {
   "cell_type": "code",
   "execution_count": 32,
   "metadata": {},
   "outputs": [],
   "source": [
    "def total_of_missing_values(data):\n",
    "    missing_data = data.isna().sum().sum()\n",
    "    print(\"\\nNumber of NaN values:\", missing_data)\n",
    "    #return missing_data"
   ]
  },
  {
   "cell_type": "markdown",
   "metadata": {},
   "source": [
    "#### Display the the number and the percent of missing values for each column in the dataset"
   ]
  },
  {
   "cell_type": "code",
   "execution_count": 26,
   "metadata": {},
   "outputs": [],
   "source": [
    "def missing_data(data):\n",
    "    total = data.isnull().sum().sort_values(ascending=False)\n",
    "    percent = (100*data.isnull().sum()/data.isnull().count()).sort_values(ascending=False)\n",
    "    missing_data = pd.concat([total, percent], axis=1, keys=['Total', 'Percent'])\n",
    "    print(missing_data[missing_data['Percent']>0])"
   ]
  },
  {
   "cell_type": "markdown",
   "metadata": {},
   "source": [
    "#### Show the dataset shape"
   ]
  },
  {
   "cell_type": "code",
   "execution_count": 35,
   "metadata": {},
   "outputs": [],
   "source": [
    "def show_data_dimensions(data):\n",
    "    print('number of rows : '+str(data.shape[0])+', number of columns : '+str(data.shape[1]))\n",
    "    #return data.shape[0]"
   ]
  },
  {
   "cell_type": "markdown",
   "metadata": {},
   "source": [
    "#### Clean the data by dropping the duplicates rows and also by filling the empty values with previous values"
   ]
  },
  {
   "cell_type": "code",
   "execution_count": 37,
   "metadata": {},
   "outputs": [],
   "source": [
    "def preprocessing(original_data):\n",
    "\n",
    "    clean_data = original_data.copy()\n",
    "\n",
    "    ### drop duplicate rows\n",
    "    clean_data.drop_duplicates(keep='first', inplace=True)\n",
    "\n",
    "    ### fill missing data and drop the remaing\n",
    "    clean_data = clean_data.fillna(method='ffill')\n",
    "    clean_data.dropna(axis=0, inplace=True)\n",
    "    return clean_data"
   ]
  },
  {
   "cell_type": "code",
   "execution_count": 48,
   "metadata": {},
   "outputs": [
    {
     "name": "stdout",
     "output_type": "stream",
     "text": [
      "\n",
      "Number of NaN values: 1010258\n"
     ]
    }
   ],
   "source": [
    "total_of_missing_values(data)"
   ]
  },
  {
   "cell_type": "code",
   "execution_count": 49,
   "metadata": {},
   "outputs": [
    {
     "name": "stdout",
     "output_type": "stream",
     "text": [
      "                                     Total    Percent\n",
      "function_call_interrupts_cpu0        68773  44.080453\n",
      "function_call_interrupts_sum_cpu123  68773  44.080453\n",
      "companion_sum_cpu123                 63667  40.807732\n",
      "SLIMBUS_sum_cpu123                   63667  40.807732\n",
      "volume_up_sum_cpu123                 63666  40.807092\n",
      "...                                    ...        ...\n",
      "Battery_online                          44   0.028202\n",
      "Battery_level                           44   0.028202\n",
      "Battery_invalid_charger                 44   0.028202\n",
      "Battery_icon_small                      44   0.028202\n",
      "Battery_health                          44   0.028202\n",
      "\n",
      "[113 rows x 2 columns]\n"
     ]
    }
   ],
   "source": [
    "missing_data(data)"
   ]
  },
  {
   "cell_type": "code",
   "execution_count": 50,
   "metadata": {},
   "outputs": [
    {
     "name": "stdout",
     "output_type": "stream",
     "text": [
      "number of rows : 156017, number of columns : 116\n"
     ]
    }
   ],
   "source": [
    "show_data_dimensions(data)"
   ]
  },
  {
   "cell_type": "markdown",
   "metadata": {},
   "source": [
    "## Clean the data"
   ]
  },
  {
   "cell_type": "code",
   "execution_count": 51,
   "metadata": {},
   "outputs": [],
   "source": [
    "data2 = preprocessing(data)"
   ]
  },
  {
   "cell_type": "code",
   "execution_count": 52,
   "metadata": {},
   "outputs": [],
   "source": [
    "#Convert all the data to string so that we can use combination of columns\n",
    "data2 = data2.applymap(str)"
   ]
  },
  {
   "cell_type": "code",
   "execution_count": 53,
   "metadata": {},
   "outputs": [],
   "source": [
    "#concate columns to use them for recommendation\n",
    "data2['version_Battery_level'] = data2['Version'] +\"_\"+data2['Battery_level']"
   ]
  },
  {
   "cell_type": "code",
   "execution_count": 54,
   "metadata": {},
   "outputs": [
    {
     "data": {
      "text/plain": [
       "(156017, 20000)"
      ]
     },
     "execution_count": 54,
     "metadata": {},
     "output_type": "execute_result"
    }
   ],
   "source": [
    "###This bloc is used only because we have a large datasetand the memory cannot support this.\n",
    "#if you have a powerful pc you can remove this bloc\n",
    "data2 = data2.iloc[:20000]\n",
    "len(data), len(data2)"
   ]
  },
  {
   "cell_type": "code",
   "execution_count": 55,
   "metadata": {},
   "outputs": [
    {
     "data": {
      "text/plain": [
       "(20000, 93)"
      ]
     },
     "execution_count": 55,
     "metadata": {},
     "output_type": "execute_result"
    }
   ],
   "source": [
    "#Here we do some processing to remove all english stop words if we have in our data set\n",
    "#Define a TF-IDF Vectorizer Object. Remove all english stop words such as 'the', 'a'\n",
    "tfidf = TfidfVectorizer(stop_words='english')\n",
    "#Replace NaN with an empty string\n",
    "data2['version_Battery_level'] = data2['version_Battery_level'].fillna('')\n",
    "#Construct the required TF-IDF matrix by fitting and transforming the data\n",
    "tfidf_matrix = tfidf.fit_transform(data2['version_Battery_level'])\n",
    "#Output the shape of tfidf_matrix\n",
    "tfidf_matrix.shape"
   ]
  },
  {
   "cell_type": "code",
   "execution_count": 56,
   "metadata": {},
   "outputs": [
    {
     "data": {
      "text/plain": [
       "(20000, 20000)"
      ]
     },
     "execution_count": 56,
     "metadata": {},
     "output_type": "execute_result"
    }
   ],
   "source": [
    "# Compute the cosine similarity matrix\n",
    "cosine_sim = linear_kernel(tfidf_matrix, tfidf_matrix)\n",
    "cosine_sim.shape"
   ]
  },
  {
   "cell_type": "code",
   "execution_count": 57,
   "metadata": {},
   "outputs": [],
   "source": [
    "#Construct a reverse map of indices and version_Battery_level\n",
    "indices = pd.Series(data2.index, index=data2['version_Battery_level']).drop_duplicates()"
   ]
  },
  {
   "cell_type": "code",
   "execution_count": 60,
   "metadata": {},
   "outputs": [],
   "source": [
    "# Function that takes in version and Battery_level as input and outputs most top 10\n",
    "def get_recommendations(version,Battery_level, cosine_sim=cosine_sim):\n",
    "    version_Battery_level = version+'_'+str(Battery_level)\n",
    "    # Get the index of the version_Battery_level that matches the version_Battery_level\n",
    "    idx = indices[version_Battery_level]\n",
    "    \n",
    "    # Get the pairwsie similarity scores of all version_Battery_level with that version_Battery_level\n",
    "    sim_scores = list(enumerate(cosine_sim[idx]))\n",
    "    # Sort the version_Battery_level based on the similarity scores\n",
    "    sim_scores = sorted(sim_scores, key=lambda x: max(x[1]), reverse=True)\n",
    "\n",
    "    # Get the scores of the 10 most similar version_Battery_level\n",
    "    sim_scores = sim_scores[1:6]\n",
    "\n",
    "    # Get the version_Battery_level indices\n",
    "    version_Battery_level_indices = [i[0] for i in sim_scores]\n",
    "\n",
    "    # Return the top 10 most similar version_Battery_level\n",
    "    return data2.iloc[version_Battery_level_indices]"
   ]
  },
  {
   "cell_type": "code",
   "execution_count": 61,
   "metadata": {},
   "outputs": [
    {
     "data": {
      "text/html": [
       "<div>\n",
       "<style scoped>\n",
       "    .dataframe tbody tr th:only-of-type {\n",
       "        vertical-align: middle;\n",
       "    }\n",
       "\n",
       "    .dataframe tbody tr th {\n",
       "        vertical-align: top;\n",
       "    }\n",
       "\n",
       "    .dataframe thead th {\n",
       "        text-align: right;\n",
       "    }\n",
       "</style>\n",
       "<table border=\"1\" class=\"dataframe\">\n",
       "  <thead>\n",
       "    <tr style=\"text-align: right;\">\n",
       "      <th></th>\n",
       "      <th>Userid</th>\n",
       "      <th>UUID</th>\n",
       "      <th>Version</th>\n",
       "      <th>CpuHertz</th>\n",
       "      <th>CPU_0</th>\n",
       "      <th>CPU_1</th>\n",
       "      <th>CPU_2</th>\n",
       "      <th>CPU_3</th>\n",
       "      <th>Total_CPU</th>\n",
       "      <th>TotalMemory_freeSize</th>\n",
       "      <th>...</th>\n",
       "      <th>tot_irq</th>\n",
       "      <th>tot_softirq</th>\n",
       "      <th>ctxt</th>\n",
       "      <th>btime</th>\n",
       "      <th>processes</th>\n",
       "      <th>procs_running</th>\n",
       "      <th>procs_blocked</th>\n",
       "      <th>connectedWifi_SSID</th>\n",
       "      <th>connectedWifi_Level</th>\n",
       "      <th>version_Battery_level</th>\n",
       "    </tr>\n",
       "  </thead>\n",
       "  <tbody>\n",
       "    <tr>\n",
       "      <th>1</th>\n",
       "      <td>97bb95f55a</td>\n",
       "      <td>1462793205551</td>\n",
       "      <td>2.3.1</td>\n",
       "      <td>1.7 GHz</td>\n",
       "      <td>95.2381</td>\n",
       "      <td>5.0</td>\n",
       "      <td>100.0</td>\n",
       "      <td>21.052631</td>\n",
       "      <td>55.32268</td>\n",
       "      <td>1740590.0</td>\n",
       "      <td>...</td>\n",
       "      <td>3118.0</td>\n",
       "      <td>1950376.0</td>\n",
       "      <td>1331527118.0</td>\n",
       "      <td>1462388871.0</td>\n",
       "      <td>8384207.0</td>\n",
       "      <td>4.0</td>\n",
       "      <td>0.0</td>\n",
       "      <td>0x3352A141D7A60F64879A4235D387F36B</td>\n",
       "      <td>-127.0</td>\n",
       "      <td>2.3.1_61.0</td>\n",
       "    </tr>\n",
       "    <tr>\n",
       "      <th>2</th>\n",
       "      <td>97bb95f55a</td>\n",
       "      <td>1462793213783</td>\n",
       "      <td>2.3.1</td>\n",
       "      <td>1.7 GHz</td>\n",
       "      <td>72.72727</td>\n",
       "      <td>7.692308</td>\n",
       "      <td>78.94737</td>\n",
       "      <td>4.7619047</td>\n",
       "      <td>41.03221</td>\n",
       "      <td>7874128.0</td>\n",
       "      <td>...</td>\n",
       "      <td>3118.0</td>\n",
       "      <td>1950496.0</td>\n",
       "      <td>1331588413.0</td>\n",
       "      <td>1462388871.0</td>\n",
       "      <td>8384543.0</td>\n",
       "      <td>3.0</td>\n",
       "      <td>0.0</td>\n",
       "      <td>0x3352A141D7A60F64879A4235D387F36B</td>\n",
       "      <td>-127.0</td>\n",
       "      <td>2.3.1_61.0</td>\n",
       "    </tr>\n",
       "    <tr>\n",
       "      <th>3</th>\n",
       "      <td>97bb95f55a</td>\n",
       "      <td>1462793218751</td>\n",
       "      <td>2.3.1</td>\n",
       "      <td>1.7 GHz</td>\n",
       "      <td>5.0</td>\n",
       "      <td>4.7619047</td>\n",
       "      <td>4.7619047</td>\n",
       "      <td>4.5454545</td>\n",
       "      <td>4.767316</td>\n",
       "      <td>12478652.0</td>\n",
       "      <td>...</td>\n",
       "      <td>3118.0</td>\n",
       "      <td>1950517.0</td>\n",
       "      <td>1331603005.0</td>\n",
       "      <td>1462388871.0</td>\n",
       "      <td>8384623.0</td>\n",
       "      <td>1.0</td>\n",
       "      <td>0.0</td>\n",
       "      <td>0x3352A141D7A60F64879A4235D387F36B</td>\n",
       "      <td>-127.0</td>\n",
       "      <td>2.3.1_61.0</td>\n",
       "    </tr>\n",
       "    <tr>\n",
       "      <th>4</th>\n",
       "      <td>97bb95f55a</td>\n",
       "      <td>1462793223756</td>\n",
       "      <td>2.3.1</td>\n",
       "      <td>1.7 GHz</td>\n",
       "      <td>21.73913</td>\n",
       "      <td>0.0</td>\n",
       "      <td>21.73913</td>\n",
       "      <td>5.0</td>\n",
       "      <td>12.119565</td>\n",
       "      <td>778458.0</td>\n",
       "      <td>...</td>\n",
       "      <td>3118.0</td>\n",
       "      <td>1950554.0</td>\n",
       "      <td>1331623058.0</td>\n",
       "      <td>1462388871.0</td>\n",
       "      <td>8384755.0</td>\n",
       "      <td>3.0</td>\n",
       "      <td>0.0</td>\n",
       "      <td>0x3352A141D7A60F64879A4235D387F36B</td>\n",
       "      <td>-127.0</td>\n",
       "      <td>2.3.1_61.0</td>\n",
       "    </tr>\n",
       "    <tr>\n",
       "      <th>5</th>\n",
       "      <td>97bb95f55a</td>\n",
       "      <td>1462793228725</td>\n",
       "      <td>2.3.1</td>\n",
       "      <td>1.7 GHz</td>\n",
       "      <td>9.523809</td>\n",
       "      <td>0.0</td>\n",
       "      <td>0.0</td>\n",
       "      <td>4.7619047</td>\n",
       "      <td>3.5714285</td>\n",
       "      <td>4418888.0</td>\n",
       "      <td>...</td>\n",
       "      <td>3118.0</td>\n",
       "      <td>1950569.0</td>\n",
       "      <td>1331638162.0</td>\n",
       "      <td>1462388871.0</td>\n",
       "      <td>8384857.0</td>\n",
       "      <td>2.0</td>\n",
       "      <td>0.0</td>\n",
       "      <td>0x3352A141D7A60F64879A4235D387F36B</td>\n",
       "      <td>-127.0</td>\n",
       "      <td>2.3.1_61.0</td>\n",
       "    </tr>\n",
       "  </tbody>\n",
       "</table>\n",
       "<p>5 rows × 117 columns</p>\n",
       "</div>"
      ],
      "text/plain": [
       "       Userid           UUID Version CpuHertz     CPU_0      CPU_1      CPU_2  \\\n",
       "1  97bb95f55a  1462793205551   2.3.1  1.7 GHz   95.2381        5.0      100.0   \n",
       "2  97bb95f55a  1462793213783   2.3.1  1.7 GHz  72.72727   7.692308   78.94737   \n",
       "3  97bb95f55a  1462793218751   2.3.1  1.7 GHz       5.0  4.7619047  4.7619047   \n",
       "4  97bb95f55a  1462793223756   2.3.1  1.7 GHz  21.73913        0.0   21.73913   \n",
       "5  97bb95f55a  1462793228725   2.3.1  1.7 GHz  9.523809        0.0        0.0   \n",
       "\n",
       "       CPU_3  Total_CPU TotalMemory_freeSize  ... tot_irq tot_softirq  \\\n",
       "1  21.052631   55.32268            1740590.0  ...  3118.0   1950376.0   \n",
       "2  4.7619047   41.03221            7874128.0  ...  3118.0   1950496.0   \n",
       "3  4.5454545   4.767316           12478652.0  ...  3118.0   1950517.0   \n",
       "4        5.0  12.119565             778458.0  ...  3118.0   1950554.0   \n",
       "5  4.7619047  3.5714285            4418888.0  ...  3118.0   1950569.0   \n",
       "\n",
       "           ctxt         btime  processes procs_running procs_blocked  \\\n",
       "1  1331527118.0  1462388871.0  8384207.0           4.0           0.0   \n",
       "2  1331588413.0  1462388871.0  8384543.0           3.0           0.0   \n",
       "3  1331603005.0  1462388871.0  8384623.0           1.0           0.0   \n",
       "4  1331623058.0  1462388871.0  8384755.0           3.0           0.0   \n",
       "5  1331638162.0  1462388871.0  8384857.0           2.0           0.0   \n",
       "\n",
       "                   connectedWifi_SSID connectedWifi_Level  \\\n",
       "1  0x3352A141D7A60F64879A4235D387F36B              -127.0   \n",
       "2  0x3352A141D7A60F64879A4235D387F36B              -127.0   \n",
       "3  0x3352A141D7A60F64879A4235D387F36B              -127.0   \n",
       "4  0x3352A141D7A60F64879A4235D387F36B              -127.0   \n",
       "5  0x3352A141D7A60F64879A4235D387F36B              -127.0   \n",
       "\n",
       "  version_Battery_level  \n",
       "1            2.3.1_61.0  \n",
       "2            2.3.1_61.0  \n",
       "3            2.3.1_61.0  \n",
       "4            2.3.1_61.0  \n",
       "5            2.3.1_61.0  \n",
       "\n",
       "[5 rows x 117 columns]"
      ]
     },
     "execution_count": 61,
     "metadata": {},
     "output_type": "execute_result"
    }
   ],
   "source": [
    "get_recommendations('2.3.1',61.0)"
   ]
  },
  {
   "cell_type": "code",
   "execution_count": null,
   "metadata": {},
   "outputs": [],
   "source": []
  }
 ],
 "metadata": {
  "kernelspec": {
   "display_name": "tf-gpu",
   "language": "python",
   "name": "tf-gpu"
  },
  "language_info": {
   "codemirror_mode": {
    "name": "ipython",
    "version": 3
   },
   "file_extension": ".py",
   "mimetype": "text/x-python",
   "name": "python",
   "nbconvert_exporter": "python",
   "pygments_lexer": "ipython3",
   "version": "3.6.10"
  }
 },
 "nbformat": 4,
 "nbformat_minor": 4
}
