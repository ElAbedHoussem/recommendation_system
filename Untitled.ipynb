{
 "cells": [
  {
   "cell_type": "code",
   "execution_count": 1,
   "metadata": {},
   "outputs": [],
   "source": [
    "import pandas as pd"
   ]
  },
  {
   "cell_type": "code",
   "execution_count": 2,
   "metadata": {},
   "outputs": [],
   "source": [
    "data = pd.read_excel (r'./T4.xlsx')"
   ]
  },
  {
   "cell_type": "code",
   "execution_count": 3,
   "metadata": {},
   "outputs": [],
   "source": [
    "#data = data.drop(['Userid'], axis=1)"
   ]
  },
  {
   "cell_type": "code",
   "execution_count": 4,
   "metadata": {},
   "outputs": [],
   "source": [
    "def total_of_missing_values_by_chunk(data):\n",
    "    missing_data = data.isna().sum().sum()\n",
    "    print(\"\\nNumber of NaN values:\", missing_data)\n",
    "    return missing_data"
   ]
  },
  {
   "cell_type": "code",
   "execution_count": 5,
   "metadata": {},
   "outputs": [],
   "source": [
    "def missing_data(data):\n",
    "    total = data.isnull().sum().sort_values(ascending=False)\n",
    "    percent = (100*data.isnull().sum()/data.isnull().count()).sort_values(ascending=False)\n",
    "    missing_data = pd.concat([total, percent], axis=1, keys=['Total', 'Percent'])\n",
    "    print(missing_data[missing_data['Percent']>0])"
   ]
  },
  {
   "cell_type": "code",
   "execution_count": 6,
   "metadata": {},
   "outputs": [],
   "source": [
    "def show_data_dimensions(data):\n",
    "    print('number of rows : '+str(data.shape[0])+', number of columns : '+str(data.shape[1]))\n",
    "    return data.shape[0]"
   ]
  },
  {
   "cell_type": "code",
   "execution_count": 7,
   "metadata": {},
   "outputs": [],
   "source": [
    "def preprocessing(original_data):\n",
    "\n",
    "    clean_data = original_data.copy()\n",
    "\n",
    "    ### drop duplicate rows\n",
    "    clean_data.drop_duplicates(keep='first', inplace=True)\n",
    "\n",
    "    ### fill missing data and drop the remaing\n",
    "    #clean_data = clean_data.fillna(method='ffill')\n",
    "    clean_data.dropna(axis=0, inplace=True)\n",
    "    return clean_data"
   ]
  },
  {
   "cell_type": "code",
   "execution_count": 8,
   "metadata": {},
   "outputs": [],
   "source": [
    "data2 = preprocessing(data)"
   ]
  },
  {
   "cell_type": "code",
   "execution_count": 9,
   "metadata": {},
   "outputs": [],
   "source": [
    "columns = data2.columns\n",
    "for column in columns:\n",
    "    data2[column] = data2[column].astype(str)\n"
   ]
  },
  {
   "cell_type": "code",
   "execution_count": 10,
   "metadata": {},
   "outputs": [
    {
     "data": {
      "text/plain": [
       "Userid                 object\n",
       "UUID                   object\n",
       "Version                object\n",
       "CpuHertz               object\n",
       "CPU_0                  object\n",
       "                        ...  \n",
       "processes              object\n",
       "procs_running          object\n",
       "procs_blocked          object\n",
       "connectedWifi_SSID     object\n",
       "connectedWifi_Level    object\n",
       "Length: 116, dtype: object"
      ]
     },
     "execution_count": 10,
     "metadata": {},
     "output_type": "execute_result"
    }
   ],
   "source": [
    "data2.dtypes"
   ]
  },
  {
   "cell_type": "code",
   "execution_count": null,
   "metadata": {},
   "outputs": [],
   "source": [
    "len(data), len(data2)"
   ]
  },
  {
   "cell_type": "code",
   "execution_count": null,
   "metadata": {},
   "outputs": [],
   "source": [
    "columns = data2.columns\n",
    "for column in columns:\n",
    "    print(column, len(data2[column].unique()))"
   ]
  },
  {
   "cell_type": "code",
   "execution_count": null,
   "metadata": {},
   "outputs": [],
   "source": []
  },
  {
   "cell_type": "code",
   "execution_count": null,
   "metadata": {},
   "outputs": [],
   "source": [
    "#number_of_rows = show_data_dimensions(data)"
   ]
  },
  {
   "cell_type": "code",
   "execution_count": null,
   "metadata": {},
   "outputs": [],
   "source": [
    "#total_of_missing_values_by_chunk(data)"
   ]
  },
  {
   "cell_type": "code",
   "execution_count": null,
   "metadata": {},
   "outputs": [],
   "source": [
    "#missing_data(data)"
   ]
  },
  {
   "cell_type": "code",
   "execution_count": null,
   "metadata": {},
   "outputs": [],
   "source": [
    "data2 = preprocessing(data)"
   ]
  },
  {
   "cell_type": "code",
   "execution_count": null,
   "metadata": {},
   "outputs": [],
   "source": [
    "#missing_data(data2)"
   ]
  },
  {
   "cell_type": "code",
   "execution_count": null,
   "metadata": {},
   "outputs": [],
   "source": [
    "#number_of_rows = show_data_dimensions(data2)"
   ]
  },
  {
   "cell_type": "code",
   "execution_count": null,
   "metadata": {},
   "outputs": [],
   "source": [
    "#total_of_missing_values_by_chunk(data2)"
   ]
  },
  {
   "cell_type": "code",
   "execution_count": 11,
   "metadata": {},
   "outputs": [],
   "source": [
    "import pandas as pd\n",
    "from sklearn.feature_extraction.text import TfidfVectorizer\n",
    "from sklearn.metrics.pairwise import linear_kernel"
   ]
  },
  {
   "cell_type": "code",
   "execution_count": 12,
   "metadata": {},
   "outputs": [],
   "source": [
    "UUID = data2[['UUID']]\n",
    "data2 = data2.drop(['UUID'],axis=1)\n",
    "data3 = data2\n",
    "data3['UUID'] = UUID['UUID']"
   ]
  },
  {
   "cell_type": "code",
   "execution_count": 13,
   "metadata": {},
   "outputs": [
    {
     "data": {
      "text/html": [
       "<div>\n",
       "<style scoped>\n",
       "    .dataframe tbody tr th:only-of-type {\n",
       "        vertical-align: middle;\n",
       "    }\n",
       "\n",
       "    .dataframe tbody tr th {\n",
       "        vertical-align: top;\n",
       "    }\n",
       "\n",
       "    .dataframe thead th {\n",
       "        text-align: right;\n",
       "    }\n",
       "</style>\n",
       "<table border=\"1\" class=\"dataframe\">\n",
       "  <thead>\n",
       "    <tr style=\"text-align: right;\">\n",
       "      <th></th>\n",
       "      <th>Userid</th>\n",
       "      <th>Version</th>\n",
       "      <th>CpuHertz</th>\n",
       "      <th>CPU_0</th>\n",
       "      <th>CPU_1</th>\n",
       "      <th>CPU_2</th>\n",
       "      <th>CPU_3</th>\n",
       "      <th>Total_CPU</th>\n",
       "      <th>TotalMemory_freeSize</th>\n",
       "      <th>TotalMemory_max_size</th>\n",
       "      <th>...</th>\n",
       "      <th>tot_irq</th>\n",
       "      <th>tot_softirq</th>\n",
       "      <th>ctxt</th>\n",
       "      <th>btime</th>\n",
       "      <th>processes</th>\n",
       "      <th>procs_running</th>\n",
       "      <th>procs_blocked</th>\n",
       "      <th>connectedWifi_SSID</th>\n",
       "      <th>connectedWifi_Level</th>\n",
       "      <th>UUID</th>\n",
       "    </tr>\n",
       "  </thead>\n",
       "  <tbody>\n",
       "    <tr>\n",
       "      <th>0</th>\n",
       "      <td>97bb95f55a</td>\n",
       "      <td>2.3.1</td>\n",
       "      <td>1.7 GHz</td>\n",
       "      <td>45.833336</td>\n",
       "      <td>52.380955</td>\n",
       "      <td>80.0</td>\n",
       "      <td>61.904762</td>\n",
       "      <td>60.029762</td>\n",
       "      <td>8306960.0</td>\n",
       "      <td>536870912.0</td>\n",
       "      <td>...</td>\n",
       "      <td>3118.0</td>\n",
       "      <td>1950319.0</td>\n",
       "      <td>1331498712.0</td>\n",
       "      <td>1462388871.0</td>\n",
       "      <td>8384093.0</td>\n",
       "      <td>5.0</td>\n",
       "      <td>0.0</td>\n",
       "      <td>0x3352A141D7A60F64879A4235D387F36B</td>\n",
       "      <td>-127.0</td>\n",
       "      <td>1462793200348</td>\n",
       "    </tr>\n",
       "    <tr>\n",
       "      <th>2</th>\n",
       "      <td>97bb95f55a</td>\n",
       "      <td>2.3.1</td>\n",
       "      <td>1.7 GHz</td>\n",
       "      <td>72.72727</td>\n",
       "      <td>7.692308</td>\n",
       "      <td>78.94737</td>\n",
       "      <td>4.7619047</td>\n",
       "      <td>41.03221</td>\n",
       "      <td>7874128.0</td>\n",
       "      <td>536870912.0</td>\n",
       "      <td>...</td>\n",
       "      <td>3118.0</td>\n",
       "      <td>1950496.0</td>\n",
       "      <td>1331588413.0</td>\n",
       "      <td>1462388871.0</td>\n",
       "      <td>8384543.0</td>\n",
       "      <td>3.0</td>\n",
       "      <td>0.0</td>\n",
       "      <td>0x3352A141D7A60F64879A4235D387F36B</td>\n",
       "      <td>-127.0</td>\n",
       "      <td>1462793213783</td>\n",
       "    </tr>\n",
       "    <tr>\n",
       "      <th>12</th>\n",
       "      <td>97bb95f55a</td>\n",
       "      <td>2.3.1</td>\n",
       "      <td>1.7 GHz</td>\n",
       "      <td>48.27586</td>\n",
       "      <td>68.181816</td>\n",
       "      <td>90.909096</td>\n",
       "      <td>61.904762</td>\n",
       "      <td>67.31788</td>\n",
       "      <td>5228580.0</td>\n",
       "      <td>536870912.0</td>\n",
       "      <td>...</td>\n",
       "      <td>3118.0</td>\n",
       "      <td>1950735.0</td>\n",
       "      <td>1331726828.0</td>\n",
       "      <td>1462388871.0</td>\n",
       "      <td>8385541.0</td>\n",
       "      <td>4.0</td>\n",
       "      <td>0.0</td>\n",
       "      <td>0x3352A141D7A60F64879A4235D387F36B</td>\n",
       "      <td>-127.0</td>\n",
       "      <td>1462793264526</td>\n",
       "    </tr>\n",
       "    <tr>\n",
       "      <th>13</th>\n",
       "      <td>97bb95f55a</td>\n",
       "      <td>2.3.1</td>\n",
       "      <td>1.7 GHz</td>\n",
       "      <td>33.333336</td>\n",
       "      <td>83.33333</td>\n",
       "      <td>23.809525</td>\n",
       "      <td>4.7619047</td>\n",
       "      <td>36.309525</td>\n",
       "      <td>1037010.0</td>\n",
       "      <td>536870912.0</td>\n",
       "      <td>...</td>\n",
       "      <td>3118.0</td>\n",
       "      <td>1950799.0</td>\n",
       "      <td>1331764427.0</td>\n",
       "      <td>1462388871.0</td>\n",
       "      <td>8385720.0</td>\n",
       "      <td>2.0</td>\n",
       "      <td>0.0</td>\n",
       "      <td>0x3352A141D7A60F64879A4235D387F36B</td>\n",
       "      <td>-127.0</td>\n",
       "      <td>1462793269775</td>\n",
       "    </tr>\n",
       "    <tr>\n",
       "      <th>14</th>\n",
       "      <td>97bb95f55a</td>\n",
       "      <td>2.3.1</td>\n",
       "      <td>300 MHz</td>\n",
       "      <td>33.333336</td>\n",
       "      <td>25.0</td>\n",
       "      <td>13.636364</td>\n",
       "      <td>0.0</td>\n",
       "      <td>17.992424</td>\n",
       "      <td>7936770.0</td>\n",
       "      <td>536870912.0</td>\n",
       "      <td>...</td>\n",
       "      <td>3118.0</td>\n",
       "      <td>1950902.0</td>\n",
       "      <td>1331799034.0</td>\n",
       "      <td>1462388871.0</td>\n",
       "      <td>8386036.0</td>\n",
       "      <td>1.0</td>\n",
       "      <td>0.0</td>\n",
       "      <td>0x3352A141D7A60F64879A4235D387F36B</td>\n",
       "      <td>-127.0</td>\n",
       "      <td>1462793276167</td>\n",
       "    </tr>\n",
       "  </tbody>\n",
       "</table>\n",
       "<p>5 rows × 116 columns</p>\n",
       "</div>"
      ],
      "text/plain": [
       "        Userid Version CpuHertz      CPU_0      CPU_1      CPU_2      CPU_3  \\\n",
       "0   97bb95f55a   2.3.1  1.7 GHz  45.833336  52.380955       80.0  61.904762   \n",
       "2   97bb95f55a   2.3.1  1.7 GHz   72.72727   7.692308   78.94737  4.7619047   \n",
       "12  97bb95f55a   2.3.1  1.7 GHz   48.27586  68.181816  90.909096  61.904762   \n",
       "13  97bb95f55a   2.3.1  1.7 GHz  33.333336   83.33333  23.809525  4.7619047   \n",
       "14  97bb95f55a   2.3.1  300 MHz  33.333336       25.0  13.636364        0.0   \n",
       "\n",
       "    Total_CPU TotalMemory_freeSize TotalMemory_max_size  ... tot_irq  \\\n",
       "0   60.029762            8306960.0          536870912.0  ...  3118.0   \n",
       "2    41.03221            7874128.0          536870912.0  ...  3118.0   \n",
       "12   67.31788            5228580.0          536870912.0  ...  3118.0   \n",
       "13  36.309525            1037010.0          536870912.0  ...  3118.0   \n",
       "14  17.992424            7936770.0          536870912.0  ...  3118.0   \n",
       "\n",
       "   tot_softirq          ctxt         btime  processes procs_running  \\\n",
       "0    1950319.0  1331498712.0  1462388871.0  8384093.0           5.0   \n",
       "2    1950496.0  1331588413.0  1462388871.0  8384543.0           3.0   \n",
       "12   1950735.0  1331726828.0  1462388871.0  8385541.0           4.0   \n",
       "13   1950799.0  1331764427.0  1462388871.0  8385720.0           2.0   \n",
       "14   1950902.0  1331799034.0  1462388871.0  8386036.0           1.0   \n",
       "\n",
       "   procs_blocked                  connectedWifi_SSID connectedWifi_Level  \\\n",
       "0            0.0  0x3352A141D7A60F64879A4235D387F36B              -127.0   \n",
       "2            0.0  0x3352A141D7A60F64879A4235D387F36B              -127.0   \n",
       "12           0.0  0x3352A141D7A60F64879A4235D387F36B              -127.0   \n",
       "13           0.0  0x3352A141D7A60F64879A4235D387F36B              -127.0   \n",
       "14           0.0  0x3352A141D7A60F64879A4235D387F36B              -127.0   \n",
       "\n",
       "             UUID  \n",
       "0   1462793200348  \n",
       "2   1462793213783  \n",
       "12  1462793264526  \n",
       "13  1462793269775  \n",
       "14  1462793276167  \n",
       "\n",
       "[5 rows x 116 columns]"
      ]
     },
     "execution_count": 13,
     "metadata": {},
     "output_type": "execute_result"
    }
   ],
   "source": [
    "data3.head()"
   ]
  },
  {
   "cell_type": "code",
   "execution_count": 14,
   "metadata": {},
   "outputs": [],
   "source": [
    "tf = TfidfVectorizer(analyzer='word', ngram_range=(1, 3), min_df=0, stop_words='english')\n",
    "tfidf_matrix = tf.fit_transform(data2['connectedWifi_SSID'])"
   ]
  },
  {
   "cell_type": "code",
   "execution_count": null,
   "metadata": {},
   "outputs": [],
   "source": [
    "cosine_similarities = linear_kernel(tfidf_matrix, tfidf_matrix) \n",
    "results = {}\n",
    "for idx, row in data2.iterrows():\n",
    "    similar_indices = cosine_similarities[idx].argsort()\n",
    "    similar_items = [(cosine_similarities[idx][i], data3['UUID'][i]) for i in similar_indices] \n",
    "    results[row['UUID']] = similar_items[1:]"
   ]
  }
 ],
 "metadata": {
  "kernelspec": {
   "display_name": "tf-gpu",
   "language": "python",
   "name": "tf-gpu"
  },
  "language_info": {
   "codemirror_mode": {
    "name": "ipython",
    "version": 3
   },
   "file_extension": ".py",
   "mimetype": "text/x-python",
   "name": "python",
   "nbconvert_exporter": "python",
   "pygments_lexer": "ipython3",
   "version": "3.6.10"
  }
 },
 "nbformat": 4,
 "nbformat_minor": 4
}
